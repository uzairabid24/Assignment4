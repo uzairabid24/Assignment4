{
 "cells": [
  {
   "cell_type": "code",
   "execution_count": 1,
   "id": "d93925c5",
   "metadata": {},
   "outputs": [
    {
     "name": "stdout",
     "output_type": "stream",
     "text": [
      "Select What you wanna do\n",
      "1: Add\n",
      "2: Subtract\n",
      "3: Multiply\n",
      "4: Divide\n",
      "Enter choice(1/2/3/4): 1\n",
      "Enter First number: 2\n",
      "Enter Second number: 3\n",
      "2.0 + 3.0 = 5.0\n",
      "Wanna do next calculation? (yes/no): no\n"
     ]
    }
   ],
   "source": [
    "\n",
    "def add(x, y):\n",
    "    return x + y\n",
    "def subtract(x, y):\n",
    "    return x - y\n",
    "def multiply(x, y):\n",
    "    return x * y\n",
    "def divide(x, y):\n",
    "    return x / y\n",
    "\n",
    "\n",
    "print(\"Select What you wanna do\")\n",
    "print(\"1: Add\")\n",
    "print(\"2: Subtract\")\n",
    "print(\"3: Multiply\")\n",
    "print(\"4: Divide\")\n",
    "\n",
    "while True:\n",
    "    option = input(\"Enter choice(1/2/3/4): \")\n",
    "    if option in ('1', '2', '3', '4'):\n",
    "        num1 = float(input(\"Enter First number: \"))\n",
    "        num2 = float(input(\"Enter Second number: \"))\n",
    "\n",
    "        if option == '1':\n",
    "            print(num1, \"+\", num2, \"=\", add(num1, num2))\n",
    "\n",
    "        elif option == '2':\n",
    "            print(num1, \"-\", num2, \"=\", subtract(num1, num2))\n",
    "\n",
    "        elif option == '3':\n",
    "            print(num1, \"*\", num2, \"=\", multiply(num1, num2))\n",
    "\n",
    "        elif option == '4':\n",
    "            print(num1, \"/\", num2, \"=\", divide(num1, num2))\n",
    "        next_calculation = input(\"Wanna do next calculation? (yes/no): \")\n",
    "        if next_calculation == \"no\":\n",
    "          break\n",
    "    \n",
    "    else:\n",
    "        print(\"Invalid Input\")\n"
   ]
  },
  {
   "cell_type": "code",
   "execution_count": 2,
   "id": "0b70c94d",
   "metadata": {},
   "outputs": [
    {
     "name": "stdout",
     "output_type": "stream",
     "text": [
      "Element Exists\n"
     ]
    }
   ],
   "source": [
    "list = [ 1, 6, 3, 5, 3, 4 ]\n",
    "\n",
    "for i in list:\n",
    "\tif(i == 4) :\n",
    "\t\tprint (\"Element Exists\")\n",
    "\n"
   ]
  },
  {
   "cell_type": "code",
   "execution_count": 3,
   "id": "a0c5bd4a",
   "metadata": {},
   "outputs": [
    {
     "name": "stdout",
     "output_type": "stream",
     "text": [
      "{0: 100, 61: 22}\n",
      "{0: 100, 61: 22, 21: 330}\n"
     ]
    }
   ],
   "source": [
    "a = {0:100, 61:22}\n",
    "print(a)\n",
    "a.update({21:330})\n",
    "print(a)\n",
    "\n"
   ]
  },
  {
   "cell_type": "code",
   "execution_count": 4,
   "id": "b34ba3c7",
   "metadata": {},
   "outputs": [
    {
     "name": "stdout",
     "output_type": "stream",
     "text": [
      "Sum : 1200\n"
     ]
    }
   ],
   "source": [
    "def returnSum(myDict):\t\n",
    "\tlist = []\n",
    "\tfor i in myDict:\n",
    "\t\tlist.append(myDict[i])\n",
    "\tfinal = sum(list)\n",
    "\t\n",
    "\treturn final\n",
    "dict = {'a': 400, 'b':200, 'c':600}\n",
    "print(\"Sum :\", returnSum(dict))\n",
    "\n"
   ]
  },
  {
   "cell_type": "code",
   "execution_count": 5,
   "id": "db63501c",
   "metadata": {},
   "outputs": [
    {
     "name": "stdout",
     "output_type": "stream",
     "text": [
      "4 2 3 4 3 4 "
     ]
    }
   ],
   "source": [
    "l=[10,4,3,4,2,2,3,4,7,3,4]\n",
    "l1=[]\n",
    "for i in l:\n",
    "    if i not in l1:\n",
    "        l1.append(i)\n",
    "    else:\n",
    "        print(i,end=' ')\n",
    "\n",
    "\n",
    "        "
   ]
  },
  {
   "cell_type": "code",
   "execution_count": 6,
   "id": "baee00f8",
   "metadata": {},
   "outputs": [
    {
     "name": "stdout",
     "output_type": "stream",
     "text": [
      "Key is present\n",
      "Key is not present\n"
     ]
    }
   ],
   "source": [
    "d = {4: 10, 3: 40, 3: 10, 4: 30, 5: 40, 6: 10}\n",
    "def is_key_present(x):\n",
    "  if x in d:\n",
    "      print('Key is present')\n",
    "  else:\n",
    "      print('Key is not present')\n",
    "is_key_present(3)\n",
    "is_key_present(10)\n"
   ]
  },
  {
   "cell_type": "code",
   "execution_count": null,
   "id": "27b17e1f",
   "metadata": {},
   "outputs": [],
   "source": []
  }
 ],
 "metadata": {
  "kernelspec": {
   "display_name": "Python 3",
   "language": "python",
   "name": "python3"
  },
  "language_info": {
   "codemirror_mode": {
    "name": "ipython",
    "version": 3
   },
   "file_extension": ".py",
   "mimetype": "text/x-python",
   "name": "python",
   "nbconvert_exporter": "python",
   "pygments_lexer": "ipython3",
   "version": "3.8.8"
  }
 },
 "nbformat": 4,
 "nbformat_minor": 5
}
